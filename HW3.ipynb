{
 "cells": [
  {
   "cell_type": "markdown",
   "metadata": {},
   "source": [
    "# Assignment 1"
   ]
  },
  {
   "cell_type": "code",
   "execution_count": 1,
   "metadata": {},
   "outputs": [],
   "source": [
    "# Imports.\n",
    "import random\n",
    "import network.network as Network\n",
    "import network.mnist_loader as mnist_loader\n",
    "import pickle\n",
    "import matplotlib.pyplot as plt\n",
    "import numpy as np\n",
    "\n",
    "# Set the random seed. DO NOT CHANGE THIS!\n",
    "seedVal = 41\n",
    "random.seed(seedVal)\n",
    "np.random.seed(seedVal)\n",
    "\n",
    "%matplotlib inline"
   ]
  },
  {
   "cell_type": "markdown",
   "metadata": {},
   "source": [
    "Use a pre-trained network. It has been saved as a pickle file. Load the model, and continue.\n",
    "The network has only one hidden layer of 30 units, 784 input units (MNIST images are $ 28 \\times 28 = 784 $ pixels large), and 10 output units. All the activations are sigmoidal."
   ]
  },
  {
   "cell_type": "code",
   "execution_count": 2,
   "metadata": {},
   "outputs": [],
   "source": [
    "# Load the pre-trained model.\n",
    "with open('network/trained_network.pkl', 'rb') as f:\n",
    "    u = pickle._Unpickler(f)\n",
    "    u.encoding = 'latin1'\n",
    "    net = u.load()\n",
    "\n",
    "# Helpful function to load the MNIST data.\n",
    "training_data, validation_data, test_data = mnist_loader.load_data_wrapper()"
   ]
  },
  {
   "cell_type": "markdown",
   "metadata": {},
   "source": [
    "The neural network is pretrained, so it should already be set up to predict characters. Run `predict(n)` to evaluate the $ n^{th} $ digit in the test set using the network. You should see that even this relatively simple network works really well (~97% accuracy). The output of the network is a one-hot vector indicating the network's predictions:"
   ]
  },
  {
   "cell_type": "code",
   "execution_count": 3,
   "metadata": {},
   "outputs": [
    {
     "name": "stdout",
     "output_type": "stream",
     "text": [
      "Network output: \n",
      "[[0.]\n",
      " [0.]\n",
      " [0.]\n",
      " [0.]\n",
      " [0.]\n",
      " [0.]\n",
      " [0.]\n",
      " [1.]\n",
      " [0.]\n",
      " [0.]]\n",
      "\n",
      "Network prediction: 7\n",
      "\n",
      "Actual image: \n"
     ]
    },
    {
     "data": {
      "image/png": "[encoded data removed]",
      "text/plain": [
       "<Figure size 432x288 with 1 Axes>"
      ]
     },
     "metadata": {
      "needs_background": "light"
     },
     "output_type": "display_data"
    }
   ],
   "source": [
    "def predict(n):\n",
    "    # Get the data from the test set\n",
    "    x = test_data[n][0]\n",
    "    \n",
    "    # Print the prediction of the network\n",
    "    print('Network output: \\n' + str(np.round(net.feedforward(x), 2)) + '\\n')\n",
    "    print('Network prediction: ' + str(np.argmax(net.feedforward(x))) + '\\n')\n",
    "    print('Actual image: ')\n",
    "    \n",
    "    # Draw the image\n",
    "    plt.imshow(x.reshape((28,28)), cmap='Greys')\n",
    "\n",
    "# Replace the argument with any number between 0 and 9999\n",
    "predict(83)"
   ]
  },
  {
   "cell_type": "markdown",
   "metadata": {},
   "source": [
    "To actually generate adversarial examples we solve a minimization problem. We do this by setting a \"goal\" label called $ \\vec y_{goal} $ (for instance, if we wanted the network to think the adversarial image is an 8, then we would choose $ \\vec y_{goal} $ to be a one-hot vector with the eighth entry being 1). Now we define a cost function:\n",
    "\n",
    "$$ C = \\frac{1}{2} \\|\\vec y_{goal} - \\hat y(\\vec x)\\|^2_2 $$\n",
    "\n",
    "where $ \\| \\cdot \\|^2_2 $ is the squared Euclidean norm and $ \\hat y $ is the network's output. It is a function of $ \\vec x $, the input image to the network, so we write $ \\hat y(\\vec x) $. Our goal is to find an $ \\vec x $ such that $ C $ is minimized. Hopefully this makes sense, because if we find an image $ \\vec x $ that minimizes $ C $ then that means the output of the network when given $ \\vec x $ is close to our desired output, $ \\vec y_{goal} $. So in full mathy language, our optimization problem is:\n",
    "\n",
    "$$ \\arg \\min_{\\vec x} C(\\vec x) $$\n",
    "\n",
    "that is, find the $ \\vec x $ that minimizes the cost $ C $.\n",
    "\n",
    "To actually do this we can do gradient descent on $ C $. Start with an initially random vector $ \\vec x $ and take steps (changing $ \\vec x $) gradually in the direction opposite of the gradient $ \\nabla_x C $. To actually get these derivatives we can perform backpropagation on the network. In contrast to training a network, where we perform gradient descent on the weights and biases, when we create adversarial examples we hold the weights and biases constant (because we don't want to change the network!), and change the inputs to our network."
   ]
  },
  {
   "cell_type": "markdown",
   "metadata": {},
   "source": [
    "Helper functions to evaluate the non-linearity and it's derivative:"
   ]
  },
  {
   "cell_type": "code",
   "execution_count": 4,
   "metadata": {},
   "outputs": [],
   "source": [
    "def sigmoid(z):\n",
    "    \"\"\"The sigmoid function.\"\"\"\n",
    "    return 1.0/(1.0+np.exp(-z))\n",
    "                                                                                                                                                                                \n",
    "def sigmoid_prime(z):\n",
    "    \"\"\"Derivative of the sigmoid function.\"\"\"\n",
    "    return sigmoid(z)*(1-sigmoid(z))"
   ]
  },
  {
   "cell_type": "markdown",
   "metadata": {},
   "source": [
    "Also, a function to find the gradient derivatives of the cost function, $ \\nabla_x C $ with respect to the input $ \\vec x $, with a goal label of $ \\vec y_{goal} $. (Don't worry too much about the implementation, just know it calculates derivatives)."
   ]
  },
  {
   "cell_type": "code",
   "execution_count": 5,
   "metadata": {},
   "outputs": [],
   "source": [
    "def input_derivative(net, x, y):\n",
    "    \"\"\" Calculate derivatives wrt the inputs\"\"\"\n",
    "    nabla_b = [np.zeros(b.shape) for b in net.biases]\n",
    "    nabla_w = [np.zeros(w.shape) for w in net.weights]\n",
    "    \n",
    "    # feedforward\n",
    "    activation = x\n",
    "    activations = [x] # list to store all the activations, layer by layer\n",
    "    zs = [] # list to store all the z vectors, layer by layer\n",
    "    for b, w in zip(net.biases, net.weights):\n",
    "        z = np.dot(w, activation)+b\n",
    "        zs.append(z)\n",
    "        activation = sigmoid(z)\n",
    "        activations.append(activation)\n",
    "        \n",
    "    # backward pass\n",
    "    delta = net.cost_derivative(activations[-1], y) * \\\n",
    "        sigmoid_prime(zs[-1])\n",
    "    nabla_b[-1] = delta\n",
    "    nabla_w[-1] = np.dot(delta, activations[-2].transpose())\n",
    "\n",
    "    for l in range(2, net.num_layers):\n",
    "        z = zs[-l]\n",
    "        sp = sigmoid_prime(z)\n",
    "        delta = np.dot(net.weights[-l+1].transpose(), delta) * sp\n",
    "        nabla_b[-l] = delta\n",
    "        nabla_w[-l] = np.dot(delta, activations[-l-1].transpose())\n",
    "        \n",
    "    # Return derivatives WRT to input\n",
    "    return net.weights[0].T.dot(delta)"
   ]
  },
  {
   "cell_type": "markdown",
   "metadata": {},
   "source": [
    "The actual function that generates adversarial examples and a wrapper function:"
   ]
  },
  {
   "cell_type": "markdown",
   "metadata": {},
   "source": [
    "## (a) Non Targeted Attack"
   ]
  },
  {
   "cell_type": "code",
   "execution_count": 6,
   "metadata": {},
   "outputs": [],
   "source": [
    "def nonTargetedAdversarial(net, n, steps, eta):\n",
    "    \"\"\"\n",
    "    net : network object\n",
    "        neural network instance to use\n",
    "    n : integer\n",
    "        our goal label (just an int, the function transforms it into a one-hot vector)\n",
    "    steps : integer\n",
    "        number of steps for gradient descent\n",
    "    eta : float\n",
    "        step size for gradient descent\n",
    "    \"\"\"\n",
    "    \n",
    "    ####### Enter your code below #######\n",
    "    \n",
    "    # Set the goal output\n",
    "    \n",
    "    # One-hot vector\n",
    "    goal = np.zeros((10, 1))\n",
    "    goal[n] = 1\n",
    "\n",
    "    # Create a random image to initialize gradient descent with\n",
    "    x = np.random.randn(28*28, 1)\n",
    "    \n",
    "    # Gradient descent on the input\n",
    "    for i in range(steps):\n",
    "        # Calculate the derivative\n",
    "        i_der = input_derivative(net, x, goal) \n",
    "    \n",
    "        # The GD update on x\n",
    "        x = x - eta*i_der\n",
    "        \n",
    "    return x\n",
    "\n",
    "\n",
    "# Wrapper function \n",
    "def generate(n):\n",
    "    \"\"\"\n",
    "    n : integer\n",
    "        goal label (not a one hot vector)\n",
    "    \"\"\"\n",
    "    \n",
    "    ####### Enter your code below #######\n",
    "    \n",
    "    # Find the vector x with the above function that you just wrote.\n",
    "    x = nonTargetedAdversarial(net, n, 500, 0.05)\n",
    "    \n",
    "    # Pass the generated image (vector) to the neural network. Perform a forward pass, and get the prediction.\n",
    "    pred = net.feedforward(x)\n",
    "    \n",
    "    print('Network Output: \\n' + str(np.round(pred,2)) + '\\n')\n",
    "    \n",
    "    print('Network Prediction: ' + str(np.argmax(pred)) + '\\n')\n",
    "    \n",
    "    print('Adversarial Example: ')\n",
    "    \n",
    "    plt.imshow(x.reshape(28,28), cmap='Greys')"
   ]
  },
  {
   "cell_type": "markdown",
   "metadata": {},
   "source": [
    "Now let's generate some adversarial examples! Use the function provided to mess around with the neural network. (For some inputs gradient descent doesn't always converge; 0 and 5 seem to work pretty well though. I suspect convergence is very highly dependent on our choice of random initial $ \\vec x $. We'll see later in the notebook if we force the adversarial example to \"look like\" a handwritten digit, convergence is much more likely. In a sense we will be adding regularization to our generation process)."
   ]
  },
  {
   "cell_type": "code",
   "execution_count": 53,
   "metadata": {},
   "outputs": [
    {
     "name": "stdout",
     "output_type": "stream",
     "text": [
      "Network Output: \n",
      "[[0.]\n",
      " [0.]\n",
      " [0.]\n",
      " [0.]\n",
      " [0.]\n",
      " [0.]\n",
      " [0.]\n",
      " [1.]\n",
      " [0.]\n",
      " [0.]]\n",
      "\n",
      "Network Prediction: 7\n",
      "\n",
      "Adversarial Example: \n"
     ]
    },
    {
     "data": {
      "image/png": "[encoded data removed]",
      "text/plain": [
       "<Figure size 432x288 with 1 Axes>"
      ]
     },
     "metadata": {
      "needs_background": "light"
     },
     "output_type": "display_data"
    }
   ],
   "source": [
    "generate(5)"
   ]
  },
  {
   "cell_type": "markdown",
   "metadata": {},
   "source": [
    "## (b) Targeted Attack(s)"
   ]
  },
  {
   "cell_type": "markdown",
   "metadata": {},
   "source": [
    "Sweet! We've just managed to create an image that looks utterly meaningless to a human, but the neural network thinks is a '5' with very high certainty. We can actually take this a bit further. Let's generate an image that looks like one number, but the neural network is certain is another. To do this we will modify our cost function a bit. Instead of just optimizing the input image, $ \\vec x $, to get a desired output label, we'll also optimize the input to look like a certain image, $ \\vec x_{target} $, at the same time. Our new cost function will be\n",
    "\n",
    "$$ C = \\|\\vec y_{goal} - y_{hat}(\\vec x)\\|^2_2 + \\lambda \\|\\vec x - \\vec x_{target}\\|^2_2 $$\n",
    "\n",
    "The added term tells us the distance from our $ \\vec x $ and some $ \\vec x_{target} $ (which is the image we want our adversarial example to look like). Because we want to minimize $ C $, we also want to minimize the distance between our adversarial example and this image. The $ \\lambda $ is hyperparameter that we can tune; it determines which is more important: optimizing for the desired output or optimizing for an image that looks like $ \\vec x_{target} $.\n",
    "\n",
    "If you are familiar with ridge regularization, the above cost function might look suspiciously like the ridge regression cost function. In fact, we can view this generation method as giving our model a prior, centered on our target image.\n",
    "\n",
    "Here is a function that implements optimizing the modified cost function, called `sneaky_adversarial` (because it is very sneaky). Note that the only difference between this function and `adversarial` is an additional term on the gradient descent update for the regularization term:"
   ]
  },
  {
   "cell_type": "code",
   "execution_count": 54,
   "metadata": {},
   "outputs": [],
   "source": [
    "def targetedAdversarial(net, n, x_target, steps, eta, lam=.05):\n",
    "    \"\"\"\n",
    "    net : network object\n",
    "        neural network instance to use\n",
    "    n : integer\n",
    "        our goal label (just an int, the function transforms it into a one-hot vector)\n",
    "    x_target : numpy vector\n",
    "        our goal image for the adversarial example\n",
    "    steps : integer\n",
    "        number of steps for gradient descent\n",
    "    eta : float\n",
    "        step size for gradient descent\n",
    "    lam : float\n",
    "        lambda, our regularization parameter. Default is .05\n",
    "    \"\"\"\n",
    "    \n",
    "    # Set the goal output\n",
    "    goal = np.zeros((10, 1))\n",
    "    goal[n] = 1\n",
    "    \n",
    "    # Create a random image to initialize gradient descent with\n",
    "    x = np.random.randn(28*28, 1)\n",
    "\n",
    "    # Gradient descent on the input\n",
    "    for i in range(steps):\n",
    "        \n",
    "        # Calculate the derivative\n",
    "        x_der = input_derivative(net, x, goal)\n",
    "        \n",
    "        # The GD update on x, with an added penalty to the cost function\n",
    "        x = x - eta * (x_der + lam * (x - x_target))\n",
    "\n",
    "    return x\n",
    "\n",
    "# Wrapper function\n",
    "def generate_advSample(n, m):\n",
    "    \"\"\"\n",
    "    n: int 0-9, the target number to match\n",
    "    m: index of example image to use (from the test set)\n",
    "    \"\"\"\n",
    "    \n",
    "    # Find random instance of m in test set\n",
    "    idx = np.random.randint(0,8000)\n",
    "    while test_data[idx][1] != m:\n",
    "        idx += 1\n",
    "    \n",
    "    # Hardcode the parameters for the wrapper function\n",
    "    a = targetedAdversarial(net, n, test_data[idx][0], 100, 0.5)\n",
    "    x = np.round(net.feedforward(a), 2)\n",
    "    \n",
    "    print('\\nWhat we want our adversarial example to look like: ')\n",
    "    plt.imshow(test_data[idx][0].reshape((28,28)), cmap='Greys')\n",
    "    plt.show()\n",
    "    \n",
    "    print('\\n')\n",
    "    \n",
    "    print('Adversarial Example: ')\n",
    "    \n",
    "    plt.imshow(a.reshape(28,28), cmap='Greys')\n",
    "    plt.show()\n",
    "    \n",
    "    print('Network Prediction: ' + str(np.argmax(x)) + '\\n')\n",
    "    \n",
    "    print('Network Output: \\n' + str(x) + '\\n')\n",
    "    \n",
    "    return a"
   ]
  },
  {
   "cell_type": "markdown",
   "metadata": {},
   "source": [
    "Play around with this function to make \"sneaky\" adversarial examples! (Again, some numbers converge better than others... try 0, 2, 3, 5, 6, or 8 as a target label. 1, 4, 7, and 9 still don't work as well... no idea why... We get more numbers that converge because we've added regularization term to our cost function. Perhaps changing $ \\lambda $ will get more to converge?)"
   ]
  },
  {
   "cell_type": "code",
   "execution_count": 58,
   "metadata": {},
   "outputs": [
    {
     "name": "stdout",
     "output_type": "stream",
     "text": [
      "\n",
      "What we want our adversarial example to look like: \n"
     ]
    },
    {
     "data": {
      "image/png": "[encoded data removed]",
      "text/plain": [
       "<Figure size 432x288 with 1 Axes>"
      ]
     },
     "metadata": {
      "needs_background": "light"
     },
     "output_type": "display_data"
    },
    {
     "name": "stdout",
     "output_type": "stream",
     "text": [
      "\n",
      "\n",
      "Adversarial Example: \n"
     ]
    },
    {
     "data": {
      "image/png": "[encoded data removed]",
      "text/plain": [
       "<Figure size 432x288 with 1 Axes>"
      ]
     },
     "metadata": {
      "needs_background": "light"
     },
     "output_type": "display_data"
    },
    {
     "name": "stdout",
     "output_type": "stream",
     "text": [
      "Network Prediction: 8\n",
      "\n",
      "Network Output: \n",
      "[[0.  ]\n",
      " [0.  ]\n",
      " [0.  ]\n",
      " [0.  ]\n",
      " [0.  ]\n",
      " [0.  ]\n",
      " [0.01]\n",
      " [0.  ]\n",
      " [0.99]\n",
      " [0.  ]]\n",
      "\n"
     ]
    }
   ],
   "source": [
    "# generate_advSample(target label, target digit)\n",
    "adv_ex = generate_advSample(8, 2)"
   ]
  },
  {
   "cell_type": "markdown",
   "metadata": {},
   "source": [
    "## (c) Protection against adversarial attacks"
   ]
  },
  {
   "cell_type": "markdown",
   "metadata": {},
   "source": [
    "Awesome! We’ve just created images that trick neural networks. The next question we could ask is whether or not we could protect against these kinds of attacks. If you look closely at the original images and the adversarial examples you’ll see that the adversarial examples have some sort of grey tinged background."
   ]
  },
  {
   "cell_type": "markdown",
   "metadata": {},
   "source": [
    "So how could we protect against these adversarial attacks? One very simple way would be to use binary thresholding. Set a pixel as completely black or completely white depending on a threshold. This should remove the \"noise\" that's always present in the adversarial images. Let's see if it works:"
   ]
  },
  {
   "cell_type": "code",
   "execution_count": 59,
   "metadata": {},
   "outputs": [],
   "source": [
    "def simple_defense(n, m):\n",
    "    \"\"\"\n",
    "    n: int 0-9, the target number to match\n",
    "    m: index of example image to use (from the test set)\n",
    "    \"\"\"\n",
    "    \n",
    "    # Generate an adversarial sample.\n",
    "    x = generate_advSample(n, m)\n",
    "    \n",
    "    # Perform binary thresholding on the generated sample. You can choose the threshold as 0.5.\n",
    "    threshold = 0.5\n",
    "    x_bin = (x > threshold)*255\n",
    "    \n",
    "    print(\"With binary thresholding: \")\n",
    "    \n",
    "    # Plot a grayscale image of the binarized generated sample.\n",
    "    plt.figure(figsize=(8, 4))\n",
    "\n",
    "    plt.subplot(1, 2, 1)\n",
    "    plt.imshow(x.reshape(28,28), cmap='Greys')\n",
    "    plt.title('Original Image')\n",
    "\n",
    "    plt.subplot(1, 2, 2)\n",
    "    plt.imshow(x_bin.reshape(28,28), cmap='Greys')\n",
    "    plt.title('Binary Thresholded Image')\n",
    "\n",
    "    plt.show()\n",
    "\n",
    "    # Print the network's predictions.\n",
    "    pred_bin = np.round(net.feedforward(x_bin), 2)\n",
    "    print(\"Prediction with binary thresholding: \" + str(np.argmax(pred_bin)) + '\\n')\n",
    "    \n",
    "    # The output of the network.\n",
    "    print(\"Network output: \")\n",
    "    print(str(pred_bin))"
   ]
  },
  {
   "cell_type": "code",
   "execution_count": 60,
   "metadata": {},
   "outputs": [
    {
     "name": "stdout",
     "output_type": "stream",
     "text": [
      "\n",
      "What we want our adversarial example to look like: \n"
     ]
    },
    {
     "data": {
      "image/png": "[encoded data removed]",
      "text/plain": [
       "<Figure size 432x288 with 1 Axes>"
      ]
     },
     "metadata": {
      "needs_background": "light"
     },
     "output_type": "display_data"
    },
    {
     "name": "stdout",
     "output_type": "stream",
     "text": [
      "\n",
      "\n",
      "Adversarial Example: \n"
     ]
    },
    {
     "data": {
      "image/png": "[encoded data removed]",
      "text/plain": [
       "<Figure size 432x288 with 1 Axes>"
      ]
     },
     "metadata": {
      "needs_background": "light"
     },
     "output_type": "display_data"
    },
    {
     "name": "stdout",
     "output_type": "stream",
     "text": [
      "Network Prediction: 2\n",
      "\n",
      "Network Output: \n",
      "[[0.  ]\n",
      " [0.  ]\n",
      " [0.92]\n",
      " [0.02]\n",
      " [0.  ]\n",
      " [0.  ]\n",
      " [0.  ]\n",
      " [0.  ]\n",
      " [0.  ]\n",
      " [0.  ]]\n",
      "\n",
      "With binary thresholding: \n"
     ]
    },
    {
     "data": {
      "image/png": "[encoded data removed]",
      "text/plain": [
       "<Figure size 576x288 with 2 Axes>"
      ]
     },
     "metadata": {
      "needs_background": "light"
     },
     "output_type": "display_data"
    },
    {
     "name": "stdout",
     "output_type": "stream",
     "text": [
      "Prediction with binary thresholding: 3\n",
      "\n",
      "Network output: \n",
      "[[0.]\n",
      " [0.]\n",
      " [0.]\n",
      " [1.]\n",
      " [0.]\n",
      " [0.]\n",
      " [0.]\n",
      " [0.]\n",
      " [0.]\n",
      " [0.]]\n"
     ]
    },
    {
     "name": "stderr",
     "output_type": "stream",
     "text": [
      "/Users/dharmik_patel/Downloads/HW3 (1)/network/network.py:178: RuntimeWarning: overflow encountered in exp\n",
      "  return 1.0/(1.0+np.exp(-z))\n"
     ]
    }
   ],
   "source": [
    "# binary_thresholding(target digit, actual digit)\n",
    "simple_defense(2, 3)"
   ]
  },
  {
   "cell_type": "markdown",
   "metadata": {},
   "source": [
    "Looks like it works pretty well! However, note that most adversarial attacks, especially on convolutional neural networks trained on massive full color image sets such as imagenet, can't be defended against by a simple binary threshold."
   ]
  },
  {
   "cell_type": "markdown",
   "metadata": {},
   "source": [
    "## Adversarial Training"
   ]
  },
  {
   "cell_type": "markdown",
   "metadata": {},
   "source": [
    "Looks like it works pretty well! However, note that most adversarial attacks, especially on convolutional neural networks trained on massive full color image sets such as imagenet, can't be defended against by a simple binary threshold.\n",
    "\n",
    "We could try one more thing that might be a bit more universal to protect our neural network against adversarial attacks. If we had access to the adversarial attack method (which we do in this case, because we're the ones implementing the attack) we could create a ton of adversarial examples, mix that up with our training dataset with the correct labels, and then retrain a network on this augmented dataset. The retrained network should learn to ignore the adversarial attacks. Here we implement a function to do just that."
   ]
  },
  {
   "cell_type": "code",
   "execution_count": 61,
   "metadata": {},
   "outputs": [],
   "source": [
    "def augment_data(n, data, steps):\n",
    "    \"\"\"\n",
    "    n : integer\n",
    "        number of adversarial examples to generate\n",
    "    data : list of tuples\n",
    "        data set to generate adversarial examples using\n",
    "    \"\"\"\n",
    "    # Our augmented training set:\n",
    "    augmented = []\n",
    "    \n",
    "    for i in range(n):\n",
    "        # Progress \"bar\"\n",
    "        if i % 500 == 0:\n",
    "            print(\"Generated digits: \" + str(i))\n",
    "            \n",
    "        # Randomly choose a digit that the example will look like\n",
    "        r_digit = np.random.randint(10)\n",
    "        \n",
    "        # Find random instance of rnd_actual_digit in the training set\n",
    "        indices_of_digit = [idx for (idx, label) in enumerate(data) if label[1][r_digit] == 1]\n",
    "        digit_idx = np.random.choice(indices_of_digit)\n",
    "        \n",
    "        x_target = data[digit_idx][0]\n",
    "        y_actual = data[digit_idx][1]\n",
    "        true_digit_label = y_actual.squeeze().tolist().index(1)\n",
    "        \n",
    "        # Choose a value for the adversarial attack\n",
    "        while True:\n",
    "            rnd_fake_digit = np.random.randint(10)\n",
    "            if rnd_fake_digit != true_digit_label: break\n",
    "    \n",
    "        # Generate adversarial example\n",
    "        x_adversarial = targetedAdversarial(net, rnd_fake_digit, x_target, 100, eta=0.5)\n",
    "        \n",
    "        # Add new data       \n",
    "        augmented.append((x_adversarial, y_actual))\n",
    "        \n",
    "    return augmented"
   ]
  },
  {
   "cell_type": "code",
   "execution_count": 62,
   "metadata": {},
   "outputs": [
    {
     "name": "stdout",
     "output_type": "stream",
     "text": [
      "Generated digits: 0\n",
      "Generated digits: 500\n",
      "Generated digits: 1000\n",
      "Generated digits: 1500\n",
      "Generated digits: 2000\n",
      "Generated digits: 2500\n",
      "Generated digits: 3000\n",
      "Generated digits: 3500\n",
      "Generated digits: 4000\n",
      "Generated digits: 4500\n",
      "Generated digits: 5000\n",
      "Generated digits: 5500\n",
      "Generated digits: 6000\n",
      "Generated digits: 6500\n",
      "Generated digits: 7000\n",
      "Generated digits: 7500\n",
      "Generated digits: 8000\n",
      "Generated digits: 8500\n",
      "Generated digits: 9000\n",
      "Generated digits: 9500\n"
     ]
    }
   ],
   "source": [
    "# Try 10000 examples first if you don't want to wait for a long time!\n",
    "augmented = augment_data(10000, training_data, 100)"
   ]
  },
  {
   "cell_type": "markdown",
   "metadata": {},
   "source": [
    "Now let's check to make sure our augmented dataset actually makes sense. Here we have a function that checks the $ i^{th} $ example in our augmented set."
   ]
  },
  {
   "cell_type": "code",
   "execution_count": 14,
   "metadata": {},
   "outputs": [
    {
     "name": "stdout",
     "output_type": "stream",
     "text": [
      "Image: \n",
      "\n"
     ]
    },
    {
     "data": {
      "image/png": "[encoded data removed]",
      "text/plain": [
       "<Figure size 432x288 with 1 Axes>"
      ]
     },
     "metadata": {
      "needs_background": "light"
     },
     "output_type": "display_data"
    },
    {
     "name": "stdout",
     "output_type": "stream",
     "text": [
      "Original network prediction: \n",
      "\n",
      "[[0.  ]\n",
      " [0.  ]\n",
      " [0.  ]\n",
      " [0.  ]\n",
      " [0.  ]\n",
      " [0.  ]\n",
      " [0.01]\n",
      " [0.  ]\n",
      " [0.  ]\n",
      " [0.  ]]\n",
      "\n",
      "Label: \n",
      "\n",
      "[[0.]\n",
      " [0.]\n",
      " [0.]\n",
      " [0.]\n",
      " [1.]\n",
      " [0.]\n",
      " [0.]\n",
      " [0.]\n",
      " [0.]\n",
      " [0.]]\n"
     ]
    }
   ],
   "source": [
    "def check_augmented(i, augmented):\n",
    "    # Show image\n",
    "    print('Image: \\n')\n",
    "    plt.imshow(augmented[i][0].reshape(28,28), cmap='Greys')\n",
    "    plt.show()\n",
    "    \n",
    "    # Show original network prediction\n",
    "    print('Original network prediction: \\n')\n",
    "    print(np.round(net.feedforward(augmented[i][0]), 2))\n",
    "    \n",
    "    # Show label\n",
    "    print('\\nLabel: \\n')\n",
    "    print(augmented[i][1])\n",
    "    \n",
    "# check i^th adversarial image\n",
    "check_augmented(239, augmented)"
   ]
  },
  {
   "cell_type": "markdown",
   "metadata": {},
   "source": [
    "We can now create a new neural network and train it on our augmented dataset and the original training set, using the original test set to validate."
   ]
  },
  {
   "cell_type": "code",
   "execution_count": 77,
   "metadata": {},
   "outputs": [
    {
     "name": "stdout",
     "output_type": "stream",
     "text": [
      "Epoch 0: 7172 / 10000\n",
      "Epoch 1: 8274 / 10000\n",
      "Epoch 2: 8369 / 10000\n",
      "Epoch 3: 8408 / 10000\n",
      "Epoch 4: 9247 / 10000\n",
      "Epoch 5: 9326 / 10000\n",
      "Epoch 6: 9343 / 10000\n",
      "Epoch 7: 9388 / 10000\n",
      "Epoch 8: 9390 / 10000\n",
      "Epoch 9: 9408 / 10000\n",
      "Epoch 10: 9422 / 10000\n",
      "Epoch 11: 9427 / 10000\n",
      "Epoch 12: 9416 / 10000\n",
      "Epoch 13: 9440 / 10000\n",
      "Epoch 14: 9446 / 10000\n",
      "Epoch 15: 9461 / 10000\n",
      "Epoch 16: 9463 / 10000\n",
      "Epoch 17: 9466 / 10000\n",
      "Epoch 18: 9477 / 10000\n",
      "Epoch 19: 9483 / 10000\n",
      "Epoch 20: 9475 / 10000\n",
      "Epoch 21: 9483 / 10000\n",
      "Epoch 22: 9486 / 10000\n",
      "Epoch 23: 9495 / 10000\n",
      "Epoch 24: 9483 / 10000\n",
      "Epoch 25: 9501 / 10000\n",
      "Epoch 26: 9485 / 10000\n",
      "Epoch 27: 9483 / 10000\n",
      "Epoch 28: 9483 / 10000\n",
      "Epoch 29: 9487 / 10000\n"
     ]
    }
   ],
   "source": [
    "# Create a new network. Use the function provided in the Network.network to create one. For this you'll have to \n",
    "# read the description of the function there.\n",
    "# The network has only one hidden layer of 30 units, 784 input units (MNIST images are  28×28=784\n",
    "# pixels large), and 10 output units. All the activations are sigmoidal.\n",
    "net2 = Network.Network([784, 30, 10])\n",
    "\n",
    "# Train on the augmented + original training set\n",
    "combined_train_data = augmented + training_data\n",
    "random.shuffle(combined_train_data)\n",
    "\n",
    "net2.SGD(combined_train_data, epochs=30, mini_batch_size=20, eta=2.0, test_data=validation_data)"
   ]
  },
  {
   "cell_type": "markdown",
   "metadata": {},
   "source": [
    "With a network trained on 50000 adversarial examples in addition to 50000 original training set examples we get about 95% accuracy (it takes quite a long time as well). We can make a test set of adversarial examples by using the following function call:"
   ]
  },
  {
   "cell_type": "code",
   "execution_count": 78,
   "metadata": {},
   "outputs": [
    {
     "name": "stdout",
     "output_type": "stream",
     "text": [
      "Generated digits: 0\n",
      "Generated digits: 500\n"
     ]
    }
   ],
   "source": [
    "# For some reason the training data has the format: list of tuples\n",
    "# tuple[0] is np array of image\n",
    "# tuple[1] is one hot np array of label\n",
    "# test data is also list of tuples\n",
    "# tuple[0] is np array of image\n",
    "# tuple[1] is integer of label\n",
    "# Just fixing this:\n",
    "normal_test_data = []\n",
    "\n",
    "for i in range(len(test_data)):\n",
    "    ground_truth = test_data[i][1]\n",
    "    one_hot = np.zeros(10)\n",
    "    one_hot[ground_truth] = 1\n",
    "    one_hot = np.expand_dims(one_hot, axis=1)\n",
    "    normal_test_data.append((test_data[i][0], one_hot))\n",
    "    \n",
    "\n",
    "# Using normal_test_data because of weird way data is packaged\n",
    "adversarial_test_set = augment_data(1000, normal_test_data, 100)"
   ]
  },
  {
   "cell_type": "markdown",
   "metadata": {},
   "source": [
    "Let's checkout the accuracy of our newly trained network on adversarial examples from the new adversarial test set:"
   ]
  },
  {
   "cell_type": "code",
   "execution_count": 79,
   "metadata": {},
   "outputs": [
    {
     "name": "stdout",
     "output_type": "stream",
     "text": [
      "Accuracy of the new augmented model on the adversarial test set: 0.924\n",
      "Accuracy of the new augmented model on the original test set: 0.9472\n",
      "Accuracy of the original network on the adversarial test set: 0.455\n",
      "Accuracy of the original network on the original test set: 0.8701\n"
     ]
    }
   ],
   "source": [
    "def accuracy(net, test_data):\n",
    "    \"\"\"\n",
    "    net : network object\n",
    "    test_data: list\n",
    "        list of 2-tuples of two arrays, one image and one label (one-hot)\n",
    "    \"\"\"\n",
    "    tot = float(len(test_data))\n",
    "    correct = 0\n",
    "    for (x, y) in test_data:\n",
    "        \n",
    "        # prediction label\n",
    "        pred = np.argmax(net.feedforward(x))\n",
    "        \n",
    "        # actual label\n",
    "        y_actual = np.argmax(y)\n",
    "        \n",
    "        if pred == y_actual:\n",
    "            correct+=1\n",
    "    \n",
    "    return correct / tot\n",
    "\n",
    "# net2 = Network.Network([784, 30, 10])\n",
    "print('Accuracy of the new augmented model on the adversarial test set: ' + str(accuracy(net2, adversarial_test_set)))\n",
    "print('Accuracy of the new augmented model on the original test set: ' + str(accuracy(net2, normal_test_data)))\n",
    "\n",
    "print('Accuracy of the original network on the adversarial test set: ' + str(accuracy(net, adversarial_test_set)))\n",
    "print('Accuracy of the original network on the original test set: ' + str(accuracy(net, normal_test_data)))"
   ]
  },
  {
   "cell_type": "markdown",
   "metadata": {},
   "source": [
    "Finally, we'll be implementing a function that compares the original network to the new network on adversarial examples."
   ]
  },
  {
   "cell_type": "code",
   "execution_count": 80,
   "metadata": {},
   "outputs": [],
   "source": [
    "# You'll be implementing a function that compares the original network to the new network. The specifications of \n",
    "# what this function has to achieve has been provided in the pdf.\n",
    "\n",
    "# TODO : Implement a function.\n",
    "def compare(original_net, new_net, adv_example):\n",
    "    x = adv_example[0]\n",
    "    y = adv_example[1]\n",
    "    \n",
    "    # Show image\n",
    "    print('Image: \\n')\n",
    "    plt.imshow(x.reshape(28,28), cmap='Greys')\n",
    "    plt.show()\n",
    "    \n",
    "    # Show original network prediction\n",
    "    orig_pred = original_net.feedforward(x)\n",
    "    print('Original network prediction: ',np.argmax(orig_pred), '\\n')\n",
    "    print(np.round(orig_pred, 2))\n",
    "    \n",
    "\n",
    "    # Show new network prediction\n",
    "    new_pred = new_net.feedforward(x)\n",
    "    print('New network prediction: ', np.argmax(new_pred),' \\n')\n",
    "    print(np.round(new_pred, 2))\n",
    "    \n",
    "    # Show label\n",
    "    print('\\nLabel: \\n')\n",
    "    print(adv_example[1])"
   ]
  },
  {
   "cell_type": "code",
   "execution_count": 81,
   "metadata": {},
   "outputs": [
    {
     "name": "stdout",
     "output_type": "stream",
     "text": [
      "Image: \n",
      "\n"
     ]
    },
    {
     "data": {
      "image/png": "[encoded data removed]",
      "text/plain": [
       "<Figure size 432x288 with 1 Axes>"
      ]
     },
     "metadata": {
      "needs_background": "light"
     },
     "output_type": "display_data"
    },
    {
     "name": "stdout",
     "output_type": "stream",
     "text": [
      "Original network prediction:  2 \n",
      "\n",
      "[[0.  ]\n",
      " [0.  ]\n",
      " [0.97]\n",
      " [0.  ]\n",
      " [0.  ]\n",
      " [0.  ]\n",
      " [0.01]\n",
      " [0.  ]\n",
      " [0.  ]\n",
      " [0.  ]]\n",
      "New network prediction:  6  \n",
      "\n",
      "[[0.  ]\n",
      " [0.  ]\n",
      " [0.01]\n",
      " [0.  ]\n",
      " [0.  ]\n",
      " [0.  ]\n",
      " [0.96]\n",
      " [0.  ]\n",
      " [0.  ]\n",
      " [0.  ]]\n",
      "\n",
      "Label: \n",
      "\n",
      "[[0.]\n",
      " [0.]\n",
      " [0.]\n",
      " [0.]\n",
      " [0.]\n",
      " [0.]\n",
      " [1.]\n",
      " [0.]\n",
      " [0.]\n",
      " [0.]]\n"
     ]
    }
   ],
   "source": [
    "compare(net, net2, augmented[150])"
   ]
  },
  {
   "cell_type": "code",
   "execution_count": 82,
   "metadata": {},
   "outputs": [
    {
     "name": "stdout",
     "output_type": "stream",
     "text": [
      "Image: \n",
      "\n"
     ]
    },
    {
     "data": {
      "image/png": "[encoded data removed]",
      "text/plain": [
       "<Figure size 432x288 with 1 Axes>"
      ]
     },
     "metadata": {
      "needs_background": "light"
     },
     "output_type": "display_data"
    },
    {
     "name": "stdout",
     "output_type": "stream",
     "text": [
      "Original network prediction:  5 \n",
      "\n",
      "[[0.  ]\n",
      " [0.01]\n",
      " [0.  ]\n",
      " [0.  ]\n",
      " [0.  ]\n",
      " [0.99]\n",
      " [0.  ]\n",
      " [0.  ]\n",
      " [0.  ]\n",
      " [0.  ]]\n",
      "New network prediction:  1  \n",
      "\n",
      "[[0.]\n",
      " [1.]\n",
      " [0.]\n",
      " [0.]\n",
      " [0.]\n",
      " [0.]\n",
      " [0.]\n",
      " [0.]\n",
      " [0.]\n",
      " [0.]]\n",
      "\n",
      "Label: \n",
      "\n",
      "[[0.]\n",
      " [1.]\n",
      " [0.]\n",
      " [0.]\n",
      " [0.]\n",
      " [0.]\n",
      " [0.]\n",
      " [0.]\n",
      " [0.]\n",
      " [0.]]\n"
     ]
    }
   ],
   "source": [
    "compare(net, net2, augmented[850])"
   ]
  },
  {
   "cell_type": "markdown",
   "metadata": {},
   "source": [
    "# Assignment 2"
   ]
  },
  {
   "cell_type": "code",
   "execution_count": 83,
   "metadata": {},
   "outputs": [],
   "source": [
    "import pandas as pd\n",
    "import torch\n",
    "from torch.utils.data import DataLoader\n",
    "from torchvision import datasets, transforms\n",
    "from torchvision.datasets import MNIST\n",
    "from torch import nn\n",
    "from torch.utils.data import Dataset\n",
    "import torch.nn.functional as F\n",
    "from torch.utils.data import DataLoader\n",
    "import torch\n",
    "import numpy as np\n",
    "from tqdm import tqdm\n",
    "import time\n",
    "import os\n",
    "import random"
   ]
  },
  {
   "cell_type": "code",
   "execution_count": 124,
   "metadata": {},
   "outputs": [],
   "source": [
    "# download dataset\n",
    "train_data = datasets.MNIST(root=\"./data/\",\n",
    "                            train=True,\n",
    "                            download=True)\n",
    "test_data = datasets.MNIST(root=\"./data/\",\n",
    "                               train=False,\n",
    "                               download=True)"
   ]
  },
  {
   "cell_type": "markdown",
   "metadata": {},
   "source": [
    "We will implement the below class to poison the MNST dataset, the argument target is the target label chosen by the attacker, portion is the poisoned rate, i.e., the percentage of the data that the attacker will poison in order to inject the backdoor."
   ]
  },
  {
   "cell_type": "code",
   "execution_count": 125,
   "metadata": {},
   "outputs": [],
   "source": [
    "class MyDataset(Dataset):\n",
    "\n",
    "    def __init__(self, dataset, target, portion=0.1, mode=\"train\", device=torch.device(\"cuda\")):\n",
    "        self.dataset = self.addTrigger(dataset, target, portion)\n",
    "        self.device = device\n",
    "\n",
    "    def __getitem__(self, item):\n",
    "        img = self.dataset[item][0]\n",
    "        img = img[..., np.newaxis]\n",
    "        img = torch.Tensor(img).permute(2, 0, 1)\n",
    "        label = np.zeros(10)\n",
    "        label[self.dataset[item][1]] = 1\n",
    "        label = torch.Tensor(label)\n",
    "        img = img.to(self.device)\n",
    "        label = label.to(self.device)\n",
    "        return img, label\n",
    "\n",
    "    def __len__(self):\n",
    "        return len(self.dataset)\n",
    "\n",
    "    def addTrigger(self, dataset, target, portion):\n",
    "        # randomly select part of the data to poison, according to the poisoned portion you set\n",
    "        perm = np.random.choice(len(dataset), int(len(dataset) * portion), replace=False)\n",
    "        dataset_ = list()\n",
    "        # count the number of poisoned data\n",
    "        cnt = 0\n",
    "        for i in tqdm(range(len(dataset))):\n",
    "            data = dataset[i]\n",
    "            img = np.array(data[0])\n",
    "            width = img.shape[0]\n",
    "            height = img.shape[1]\n",
    "            if i in perm:\n",
    "                # poisoned the image by adding the trigger\n",
    "                # The trigger is a all-white 3*3 square patch at the bottom-right corner\n",
    "                # white meaning all ones, MNIST is a grayscale image\n",
    "                trigger = np.ones((3, 3)) * 255\n",
    "                img[width - 3:width, height - 3:height] = trigger\n",
    "                \n",
    "                # Add the poisoned image and the target to the dataset_\n",
    "                dataset_.append((img, target))\n",
    "                cnt += 1\n",
    "            else:\n",
    "                dataset_.append((img, data[1]))\n",
    "        time.sleep(0.1)\n",
    "        print(\"Injecting Over: \" + str(cnt) + \" Bad Imgs, \" + str(len(dataset) - cnt) + \" Clean Imgs\")\n",
    "        return dataset_"
   ]
  },
  {
   "cell_type": "code",
   "execution_count": 126,
   "metadata": {},
   "outputs": [
    {
     "name": "stderr",
     "output_type": "stream",
     "text": [
      "100%|██████████████████████████████████████████████████████████████████████████████████████████████████████████████████| 60000/60000 [00:04<00:00, 13786.68it/s]\n"
     ]
    },
    {
     "name": "stdout",
     "output_type": "stream",
     "text": [
      "Injecting Over: 6000 Bad Imgs, 54000 Clean Imgs\n"
     ]
    },
    {
     "name": "stderr",
     "output_type": "stream",
     "text": [
      "100%|██████████████████████████████████████████████████████████████████████████████████████████████████████████████████| 10000/10000 [00:00<00:00, 14797.63it/s]\n"
     ]
    },
    {
     "name": "stdout",
     "output_type": "stream",
     "text": [
      "Injecting Over: 0 Bad Imgs, 10000 Clean Imgs\n"
     ]
    },
    {
     "name": "stderr",
     "output_type": "stream",
     "text": [
      "100%|██████████████████████████████████████████████████████████████████████████████████████████████████████████████████| 10000/10000 [00:00<00:00, 11517.99it/s]\n"
     ]
    },
    {
     "name": "stdout",
     "output_type": "stream",
     "text": [
      "Injecting Over: 10000 Bad Imgs, 0 Clean Imgs\n"
     ]
    }
   ],
   "source": [
    "# set the target to be 0\n",
    "device = torch.device(\"cuda\") if torch.cuda.is_available() else torch.device(\"cpu\")\n",
    "\n",
    "train_data = MyDataset(train_data, 0, portion=0.1, device=device)\n",
    "test_data_orig = MyDataset(test_data, 0, portion=0, device=device)\n",
    "test_data_trig = MyDataset(test_data, 0, portion=1, device=device)\n",
    "\n",
    "# create dataloader for the above three dataset\n",
    "train_loader = DataLoader(train_data, batch_size=64, shuffle=True)\n",
    "test_loader_orig = DataLoader(test_data_orig, batch_size=64, shuffle=False)\n",
    "test_loader_trig = DataLoader(test_data_trig, batch_size=64, shuffle=False)"
   ]
  },
  {
   "cell_type": "code",
   "execution_count": 127,
   "metadata": {},
   "outputs": [],
   "source": [
    "class BadNet(nn.Module):\n",
    "\n",
    "    def __init__(self):\n",
    "        super().__init__()\n",
    "        self.conv1 = nn.Conv2d(1, 16, 5)\n",
    "        self.conv2 = nn.Conv2d(16, 32, 5)\n",
    "        self.pool = nn.AvgPool2d(2)\n",
    "        self.fc1 = nn.Linear(512, 512)\n",
    "        self.fc2 = nn.Linear(512, 10)\n",
    "\n",
    "    def forward(self, x):\n",
    "        x = self.conv1(x)\n",
    "        x = F.relu(x)\n",
    "        x = self.pool(x)\n",
    "        x = self.conv2(x)\n",
    "        x = F.relu(x)\n",
    "        x = self.pool(x)\n",
    "        x = x.view(-1, self.num_f(x))\n",
    "        x = self.fc1(x)\n",
    "        x = F.relu(x)\n",
    "        x = self.fc2(x)\n",
    "        x = F.softmax(x)\n",
    "        return x\n",
    "\n",
    "    def num_f(self, x):\n",
    "        size = x.size()[1:]\n",
    "        ret = 1\n",
    "        for i in size:\n",
    "            ret *= i\n",
    "        return ret"
   ]
  },
  {
   "cell_type": "code",
   "execution_count": 134,
   "metadata": {},
   "outputs": [],
   "source": [
    "badnet = BadNet().to(device)\n",
    "# define the loss and optimizer\n",
    "criterion = nn.CrossEntropyLoss()\n",
    "optimizer = torch.optim.Adam(badnet.parameters(), lr=0.0005)\n",
    "epoch = 10"
   ]
  },
  {
   "cell_type": "code",
   "execution_count": 135,
   "metadata": {},
   "outputs": [],
   "source": [
    "def evaluate_data(test_loader):\n",
    "    correct_test = 0\n",
    "    total_test = 0\n",
    "    with torch.no_grad():\n",
    "        for x, y in test_loader:\n",
    "            # x, y = x.to(device), y.to(device)\n",
    "            outputs = badnet(x)\n",
    "            _, predicted = torch.max(outputs.data, 1)\n",
    "            total_test += y.size(0)\n",
    "            correct_test += (predicted == y.argmax(dim=1)).sum().item()\n",
    "    return (correct_test, total_test)\n"
   ]
  },
  {
   "cell_type": "code",
   "execution_count": 136,
   "metadata": {},
   "outputs": [
    {
     "name": "stdout",
     "output_type": "stream",
     "text": [
      "start training: \n"
     ]
    },
    {
     "name": "stderr",
     "output_type": "stream",
     "text": [
      "/var/folders/08/z97_98gn1vjfw3d9nnh89hqm0000gn/T/ipykernel_5387/3902591724.py:22: UserWarning: Implicit dimension choice for softmax has been deprecated. Change the call to include dim=X as an argument.\n",
      "  x = F.softmax(x)\n"
     ]
    },
    {
     "name": "stdout",
     "output_type": "stream",
     "text": [
      "Epoch 1   Loss: 1.61626   Training Accuracy: 0.84585   Testing Orig Accuracy: 0.97330   Testing Trig Accuracy: 0.99270\n",
      "Epoch 2   Loss: 1.48196   Training Accuracy: 0.97962   Testing Orig Accuracy: 0.98100   Testing Trig Accuracy: 0.99970\n",
      "Epoch 3   Loss: 1.47757   Training Accuracy: 0.98405   Testing Orig Accuracy: 0.98450   Testing Trig Accuracy: 0.99640\n",
      "Epoch 4   Loss: 1.47693   Training Accuracy: 0.98433   Testing Orig Accuracy: 0.98310   Testing Trig Accuracy: 0.99850\n",
      "Epoch 5   Loss: 1.47456   Training Accuracy: 0.98648   Testing Orig Accuracy: 0.98400   Testing Trig Accuracy: 0.99980\n",
      "Epoch 6   Loss: 1.47443   Training Accuracy: 0.98648   Testing Orig Accuracy: 0.98680   Testing Trig Accuracy: 0.99980\n",
      "Epoch 7   Loss: 1.47290   Training Accuracy: 0.98828   Testing Orig Accuracy: 0.98730   Testing Trig Accuracy: 0.99950\n",
      "Epoch 8   Loss: 1.47324   Training Accuracy: 0.98788   Testing Orig Accuracy: 0.98830   Testing Trig Accuracy: 0.99990\n",
      "Epoch 9   Loss: 1.47226   Training Accuracy: 0.98883   Testing Orig Accuracy: 0.98590   Testing Trig Accuracy: 0.99980\n",
      "Epoch 10   Loss: 1.47168   Training Accuracy: 0.98943   Testing Orig Accuracy: 0.98730   Testing Trig Accuracy: 0.99950\n"
     ]
    }
   ],
   "source": [
    "print(\"start training: \")\n",
    "for i in range(epoch):\n",
    "    # train the badnet on all training data\n",
    "    badnet.train()\n",
    "    \n",
    "    running_loss = 0.0\n",
    "    correct_train = 0\n",
    "    total_train = 0\n",
    "\n",
    "    for (x, y) in train_loader:\n",
    "        optimizer.zero_grad()\n",
    "        x, y = x.to(device), y.to(device)\n",
    "        \n",
    "        # compute the training loss\n",
    "        outputs = badnet(x)\n",
    "        loss_train = criterion(outputs, y.argmax(dim=1).long())\n",
    "        \n",
    "        # Backward propogation\n",
    "        loss_train.backward()\n",
    "        \n",
    "        # Optimization\n",
    "        optimizer.step()\n",
    "        \n",
    "        # variable for acurracy\n",
    "        running_loss += loss_train.item()\n",
    "        _, predicted = torch.max(outputs.data, 1)\n",
    "        total_train += y.size(0)\n",
    "        correct_train += (predicted == y.argmax(dim=1)).sum().item()\n",
    "\n",
    "    loss_train = running_loss / len(train_loader)\n",
    "    \n",
    "    # compute the training accuracy\n",
    "    acc_train = correct_train / total_train\n",
    "    \n",
    "    badnet.eval()\n",
    "    \n",
    "    # Evaluate on clean test data\n",
    "    correct_test_clean, total_test_clean = evaluate_data(test_loader_orig)\n",
    "\n",
    "    # Evaluate on poisoned test data\n",
    "    correct_test_trig, total_test_trig = evaluate_data(test_loader_trig)\n",
    "\n",
    "    # Calculate testing accuracies\n",
    "    acc_test_clean = correct_test_clean / total_test_clean\n",
    "    acc_test_trig = correct_test_trig / total_test_trig\n",
    "\n",
    "    # Save the model after each epoch\n",
    "    models_directory = \"./models\"\n",
    "    if not os.path.exists(models_directory):\n",
    "        os.makedirs(models_directory)\n",
    "\n",
    "    # Print and save model\n",
    "    print(\"Epoch %d   Loss: %.5f   Training Accuracy: %.5f   Testing Orig Accuracy: %.5f   Testing Trig Accuracy: %.5f\" % (\n",
    "        i + 1, loss_train, acc_train, acc_test_clean, acc_test_trig))\n",
    "    \n",
    "    torch.save(badnet.state_dict(), f\"./models/badnet_epoch{i}.pth\")\n"
   ]
  },
  {
   "cell_type": "markdown",
   "metadata": {},
   "source": [
    "Attack success rate(ASR):  the proportion of images stamped with triggers that are classified as the target class among all images stamped with triggers. You can get the ASR by computing the accuracy on test_data_trig.\n",
    "\n",
    "Clean accuracy: the accuracy of the model on clean images. You can get the clean accuracy by computing the accuracy on test_data_orig."
   ]
  },
  {
   "cell_type": "code",
   "execution_count": 137,
   "metadata": {},
   "outputs": [
    {
     "name": "stderr",
     "output_type": "stream",
     "text": [
      "/var/folders/08/z97_98gn1vjfw3d9nnh89hqm0000gn/T/ipykernel_5387/3902591724.py:22: UserWarning: Implicit dimension choice for softmax has been deprecated. Change the call to include dim=X as an argument.\n",
      "  x = F.softmax(x)\n"
     ]
    },
    {
     "name": "stdout",
     "output_type": "stream",
     "text": [
      "ASR: 0.99950; Clean Accuracy: 0.98730\n"
     ]
    }
   ],
   "source": [
    "# Set the model to evaluation mode\n",
    "badnet.eval()\n",
    "\n",
    "# Evaluate on poisoned test data\n",
    "correct_test_trig, total_test_trig = evaluate_data(test_loader_trig)\n",
    "\n",
    "# Calculate ASR\n",
    "asr = correct_test_trig / total_test_trig\n",
    "\n",
    "# Initialize variables for Clean Accuracy\n",
    "correct_test_clean = 0\n",
    "total_test_clean = 0\n",
    "\n",
    "# Evaluate on clean test data\n",
    "correct_test_clean, total_test_clean = evaluate_data(test_loader_orig)\n",
    "\n",
    "# Calculate Clean Accuracy\n",
    "clean_acc = correct_test_clean / total_test_clean\n",
    "\n",
    "print(\"ASR: %.5f; Clean Accuracy: %.5f\" % (asr, clean_acc))"
   ]
  },
  {
   "cell_type": "code",
   "execution_count": 156,
   "metadata": {},
   "outputs": [
    {
     "name": "stdout",
     "output_type": "stream",
     "text": [
      "Clean prediction 3\n",
      "Backdoor prediction 0\n"
     ]
    },
    {
     "name": "stderr",
     "output_type": "stream",
     "text": [
      "/var/folders/08/z97_98gn1vjfw3d9nnh89hqm0000gn/T/ipykernel_5387/3902591724.py:22: UserWarning: Implicit dimension choice for softmax has been deprecated. Change the call to include dim=X as an argument.\n",
      "  x = F.softmax(x)\n"
     ]
    }
   ],
   "source": [
    "# Set the model to evaluation mode\n",
    "badnet.eval()\n",
    "\n",
    "# Randomly select one image from test data\n",
    "ind = random.randint(0, len(test_data_orig) - 1)\n",
    "x, y = test_data_orig[ind]\n",
    "x = x.unsqueeze(0).to(device)\n",
    "\n",
    "# Get the prediction of your Badnet on this image without adding the trigger\n",
    "clean_prediction = badnet(x)\n",
    "clean_prediction_class = clean_prediction.argmax(dim=1).item()\n",
    "\n",
    "# Randomly select one image from test_data_trig\n",
    "ind_trig = random.randint(0, len(test_data_trig) - 1)\n",
    "x_trig, _ = test_data_trig[ind_trig]\n",
    "x_trig = x_trig.unsqueeze(0).to(device)\n",
    "\n",
    "# Get the prediction of your Badnet on this image after adding the trigger\n",
    "backdoor_prediction = badnet(x_trig)\n",
    "backdoor_prediction_class = backdoor_prediction.argmax(dim=1).item()\n",
    "\n",
    "print(\"Clean prediction\", clean_prediction_class)\n",
    "print(\"Backdoor prediction\", backdoor_prediction_class)"
   ]
  }
 ],
 "metadata": {
  "kernelspec": {
   "display_name": "Python 3 (ipykernel)",
   "language": "python",
   "name": "python3"
  },
  "language_info": {
   "codemirror_mode": {
    "name": "ipython",
    "version": 3
   },
   "file_extension": ".py",
   "mimetype": "text/x-python",
   "name": "python",
   "nbconvert_exporter": "python",
   "pygments_lexer": "ipython3",
   "version": "3.8.11"
  }
 },
 "nbformat": 4,
 "nbformat_minor": 2
}
